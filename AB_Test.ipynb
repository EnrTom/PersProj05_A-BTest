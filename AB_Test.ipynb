{
 "cells": [
  {
   "cell_type": "markdown",
   "id": "22cdea9c",
   "metadata": {},
   "source": [
    "# A/B Testing Example\n",
    "__By Enrico Tomassoli, PhD, MS__\n",
    "\n",
    "### 0. Importing Libraries\n",
    "In the following the Python libraries are imported. "
   ]
  },
  {
   "cell_type": "code",
   "execution_count": 2,
   "id": "69d10b8b",
   "metadata": {},
   "outputs": [],
   "source": [
    "import pandas as pd\n",
    "import matplotlib.pyplot as plt\n",
    "import scipy.stats as stats\n",
    "import statsmodels.stats.api as sms\n",
    "import numpy as np\n",
    "\n",
    "from statsmodels.stats.proportion import proportions_ztest, proportion_confint"
   ]
  },
  {
   "cell_type": "markdown",
   "id": "7f78f2c6",
   "metadata": {},
   "source": [
    "### 1. Importing Data\n",
    "The data for the A/B test can be found using the following link in _Kaggle_:\n",
    "\n",
    "https://www.kaggle.com/datasets/zhangluyuan/ab-testing?select=ab_data.csv\n",
    "\n",
    "The data is downloaded and saved in csv format, and the file name is _ab_data.csv_ also saved in the folder. The first few rows of the data are shown in the following. Info and description of the data are reported as well."
   ]
  },
  {
   "cell_type": "code",
   "execution_count": 3,
   "id": "bba2c2e7",
   "metadata": {},
   "outputs": [
    {
     "data": {
      "text/html": [
       "<div>\n",
       "<style scoped>\n",
       "    .dataframe tbody tr th:only-of-type {\n",
       "        vertical-align: middle;\n",
       "    }\n",
       "\n",
       "    .dataframe tbody tr th {\n",
       "        vertical-align: top;\n",
       "    }\n",
       "\n",
       "    .dataframe thead th {\n",
       "        text-align: right;\n",
       "    }\n",
       "</style>\n",
       "<table border=\"1\" class=\"dataframe\">\n",
       "  <thead>\n",
       "    <tr style=\"text-align: right;\">\n",
       "      <th></th>\n",
       "      <th>user_id</th>\n",
       "      <th>timestamp</th>\n",
       "      <th>group</th>\n",
       "      <th>landing_page</th>\n",
       "      <th>converted</th>\n",
       "    </tr>\n",
       "  </thead>\n",
       "  <tbody>\n",
       "    <tr>\n",
       "      <th>0</th>\n",
       "      <td>851104</td>\n",
       "      <td>2017-01-21 22:11:48.556739</td>\n",
       "      <td>control</td>\n",
       "      <td>old_page</td>\n",
       "      <td>0</td>\n",
       "    </tr>\n",
       "    <tr>\n",
       "      <th>1</th>\n",
       "      <td>804228</td>\n",
       "      <td>2017-01-12 08:01:45.159739</td>\n",
       "      <td>control</td>\n",
       "      <td>old_page</td>\n",
       "      <td>0</td>\n",
       "    </tr>\n",
       "    <tr>\n",
       "      <th>2</th>\n",
       "      <td>661590</td>\n",
       "      <td>2017-01-11 16:55:06.154213</td>\n",
       "      <td>treatment</td>\n",
       "      <td>new_page</td>\n",
       "      <td>0</td>\n",
       "    </tr>\n",
       "    <tr>\n",
       "      <th>3</th>\n",
       "      <td>853541</td>\n",
       "      <td>2017-01-08 18:28:03.143765</td>\n",
       "      <td>treatment</td>\n",
       "      <td>new_page</td>\n",
       "      <td>0</td>\n",
       "    </tr>\n",
       "    <tr>\n",
       "      <th>4</th>\n",
       "      <td>864975</td>\n",
       "      <td>2017-01-21 01:52:26.210827</td>\n",
       "      <td>control</td>\n",
       "      <td>old_page</td>\n",
       "      <td>1</td>\n",
       "    </tr>\n",
       "    <tr>\n",
       "      <th>5</th>\n",
       "      <td>936923</td>\n",
       "      <td>2017-01-10 15:20:49.083499</td>\n",
       "      <td>control</td>\n",
       "      <td>old_page</td>\n",
       "      <td>0</td>\n",
       "    </tr>\n",
       "    <tr>\n",
       "      <th>6</th>\n",
       "      <td>679687</td>\n",
       "      <td>2017-01-19 03:26:46.940749</td>\n",
       "      <td>treatment</td>\n",
       "      <td>new_page</td>\n",
       "      <td>1</td>\n",
       "    </tr>\n",
       "    <tr>\n",
       "      <th>7</th>\n",
       "      <td>719014</td>\n",
       "      <td>2017-01-17 01:48:29.539573</td>\n",
       "      <td>control</td>\n",
       "      <td>old_page</td>\n",
       "      <td>0</td>\n",
       "    </tr>\n",
       "    <tr>\n",
       "      <th>8</th>\n",
       "      <td>817355</td>\n",
       "      <td>2017-01-04 17:58:08.979471</td>\n",
       "      <td>treatment</td>\n",
       "      <td>new_page</td>\n",
       "      <td>1</td>\n",
       "    </tr>\n",
       "    <tr>\n",
       "      <th>9</th>\n",
       "      <td>839785</td>\n",
       "      <td>2017-01-15 18:11:06.610965</td>\n",
       "      <td>treatment</td>\n",
       "      <td>new_page</td>\n",
       "      <td>1</td>\n",
       "    </tr>\n",
       "  </tbody>\n",
       "</table>\n",
       "</div>"
      ],
      "text/plain": [
       "   user_id                   timestamp      group landing_page  converted\n",
       "0   851104  2017-01-21 22:11:48.556739    control     old_page          0\n",
       "1   804228  2017-01-12 08:01:45.159739    control     old_page          0\n",
       "2   661590  2017-01-11 16:55:06.154213  treatment     new_page          0\n",
       "3   853541  2017-01-08 18:28:03.143765  treatment     new_page          0\n",
       "4   864975  2017-01-21 01:52:26.210827    control     old_page          1\n",
       "5   936923  2017-01-10 15:20:49.083499    control     old_page          0\n",
       "6   679687  2017-01-19 03:26:46.940749  treatment     new_page          1\n",
       "7   719014  2017-01-17 01:48:29.539573    control     old_page          0\n",
       "8   817355  2017-01-04 17:58:08.979471  treatment     new_page          1\n",
       "9   839785  2017-01-15 18:11:06.610965  treatment     new_page          1"
      ]
     },
     "execution_count": 3,
     "metadata": {},
     "output_type": "execute_result"
    }
   ],
   "source": [
    "rd = pd.read_csv('ab_data.csv') # Data is loaded\n",
    "rd.head(10)"
   ]
  },
  {
   "cell_type": "code",
   "execution_count": 4,
   "id": "28db3667",
   "metadata": {},
   "outputs": [
    {
     "name": "stdout",
     "output_type": "stream",
     "text": [
      "<class 'pandas.core.frame.DataFrame'>\n",
      "RangeIndex: 294478 entries, 0 to 294477\n",
      "Data columns (total 5 columns):\n",
      " #   Column        Non-Null Count   Dtype \n",
      "---  ------        --------------   ----- \n",
      " 0   user_id       294478 non-null  int64 \n",
      " 1   timestamp     294478 non-null  object\n",
      " 2   group         294478 non-null  object\n",
      " 3   landing_page  294478 non-null  object\n",
      " 4   converted     294478 non-null  int64 \n",
      "dtypes: int64(2), object(3)\n",
      "memory usage: 11.2+ MB\n"
     ]
    }
   ],
   "source": [
    "rd.info()"
   ]
  },
  {
   "cell_type": "code",
   "execution_count": 5,
   "id": "565351f1",
   "metadata": {},
   "outputs": [
    {
     "data": {
      "text/html": [
       "<div>\n",
       "<style scoped>\n",
       "    .dataframe tbody tr th:only-of-type {\n",
       "        vertical-align: middle;\n",
       "    }\n",
       "\n",
       "    .dataframe tbody tr th {\n",
       "        vertical-align: top;\n",
       "    }\n",
       "\n",
       "    .dataframe thead th {\n",
       "        text-align: right;\n",
       "    }\n",
       "</style>\n",
       "<table border=\"1\" class=\"dataframe\">\n",
       "  <thead>\n",
       "    <tr style=\"text-align: right;\">\n",
       "      <th></th>\n",
       "      <th>user_id</th>\n",
       "      <th>converted</th>\n",
       "    </tr>\n",
       "  </thead>\n",
       "  <tbody>\n",
       "    <tr>\n",
       "      <th>count</th>\n",
       "      <td>294478.000000</td>\n",
       "      <td>294478.000000</td>\n",
       "    </tr>\n",
       "    <tr>\n",
       "      <th>mean</th>\n",
       "      <td>787974.124733</td>\n",
       "      <td>0.119659</td>\n",
       "    </tr>\n",
       "    <tr>\n",
       "      <th>std</th>\n",
       "      <td>91210.823776</td>\n",
       "      <td>0.324563</td>\n",
       "    </tr>\n",
       "    <tr>\n",
       "      <th>min</th>\n",
       "      <td>630000.000000</td>\n",
       "      <td>0.000000</td>\n",
       "    </tr>\n",
       "    <tr>\n",
       "      <th>25%</th>\n",
       "      <td>709032.250000</td>\n",
       "      <td>0.000000</td>\n",
       "    </tr>\n",
       "    <tr>\n",
       "      <th>50%</th>\n",
       "      <td>787933.500000</td>\n",
       "      <td>0.000000</td>\n",
       "    </tr>\n",
       "    <tr>\n",
       "      <th>75%</th>\n",
       "      <td>866911.750000</td>\n",
       "      <td>0.000000</td>\n",
       "    </tr>\n",
       "    <tr>\n",
       "      <th>max</th>\n",
       "      <td>945999.000000</td>\n",
       "      <td>1.000000</td>\n",
       "    </tr>\n",
       "  </tbody>\n",
       "</table>\n",
       "</div>"
      ],
      "text/plain": [
       "             user_id      converted\n",
       "count  294478.000000  294478.000000\n",
       "mean   787974.124733       0.119659\n",
       "std     91210.823776       0.324563\n",
       "min    630000.000000       0.000000\n",
       "25%    709032.250000       0.000000\n",
       "50%    787933.500000       0.000000\n",
       "75%    866911.750000       0.000000\n",
       "max    945999.000000       1.000000"
      ]
     },
     "execution_count": 5,
     "metadata": {},
     "output_type": "execute_result"
    }
   ],
   "source": [
    "rd.describe(include=None)"
   ]
  },
  {
   "cell_type": "markdown",
   "id": "35df8ab9",
   "metadata": {},
   "source": [
    "In the date we also check for duplicates. It appears that there are approximately 4,000 user that reported in the data multiple times."
   ]
  },
  {
   "cell_type": "code",
   "execution_count": 6,
   "id": "52208a5b",
   "metadata": {},
   "outputs": [
    {
     "name": "stdout",
     "output_type": "stream",
     "text": [
      "Number of duplicate user ID removed = 3894\n"
     ]
    }
   ],
   "source": [
    "print('Number of duplicate user ID removed =',(rd.user_id.shape[0] - len(rd.user_id.unique())))\n",
    "rd.drop_duplicates('user_id',keep='first',inplace=True)"
   ]
  },
  {
   "cell_type": "markdown",
   "id": "a1e18e88",
   "metadata": {},
   "source": [
    "### 2. Sample Size Estimation\n",
    "The assumption in this study is that the current conversion rate is approximately 13%, and increases it by 2% would be acceptable, i.e. that new feature/design will provide a 15% conversion rate. This allows to evaluate the size of the sample for our analysis. Since getting the data is expensive and time consuming, we want to use the \"minimum\" amount of samples. We also fixed the following values:\n",
    "- ___Alpha α = 0.05___\n",
    "- ___β = 0.20___\n",
    "- ___Power of the Test = (1-β) = 0.80___"
   ]
  },
  {
   "cell_type": "code",
   "execution_count": 7,
   "id": "ef98f697",
   "metadata": {},
   "outputs": [
    {
     "name": "stdout",
     "output_type": "stream",
     "text": [
      "Minimum Sample Size Required = 4719\n"
     ]
    }
   ],
   "source": [
    "# Calculating effect size starting from expectation rates\n",
    "eff_size = sms.proportion_effectsize(0.13,0.15)\n",
    "n_required = int(sms.NormalIndPower().solve_power(eff_size, power=0.80, alpha=0.05, ratio=1))\n",
    "print('Minimum Sample Size Required =',n_required)"
   ]
  },
  {
   "cell_type": "markdown",
   "id": "748dd6d5",
   "metadata": {},
   "source": [
    "This number should be defined before starting collection data. In this case, the sample size is very small in comparison to the data available. In particular is a very small percentage:"
   ]
  },
  {
   "cell_type": "code",
   "execution_count": 8,
   "id": "f9481c26",
   "metadata": {},
   "outputs": [
    {
     "name": "stdout",
     "output_type": "stream",
     "text": [
      "Sample Percentage Respect to All Data Available = 1.624 %\n"
     ]
    }
   ],
   "source": [
    "print('Sample Percentage Respect to All Data Available =', round(n_required/rd.shape[0]*100,3),'%')"
   ]
  },
  {
   "cell_type": "markdown",
   "id": "23b197e4",
   "metadata": {},
   "source": [
    "### 2.1. Impact of Target Conversion Rate\n",
    "Below quick estimation of the sample size considering the target conversion rate. This is just an exercise to show the impact of the sample size to considered, similar to a sensitive analysis. The number of sample is evaluated for different target conversion rate to show that, when the _gap_ between current and target rate increase, the number of samples drop dramatically. In other words, if we expect that the action we take to improve the conversion rate is significant, less date is available since the results, in a way, should be overwhelming. On the contrary, when the _gap_ is smaller, more data is necessary to better justify statistically the results to support or reject the proposed action."
   ]
  },
  {
   "cell_type": "code",
   "execution_count": 9,
   "id": "a2759f94",
   "metadata": {},
   "outputs": [
    {
     "data": {
      "image/png": "[encoded data removed]",
      "text/plain": [
       "<Figure size 432x288 with 1 Axes>"
      ]
     },
     "metadata": {
      "needs_background": "light"
     },
     "output_type": "display_data"
    }
   ],
   "source": [
    "cr_target = [0.135, 0.14, 0.15, 0.16, 0.17, 0.18, 0.19, 0.20] # Target conversion rates\n",
    "n_sample = [] \n",
    "\n",
    "# Loop to estimate number of samples for different conversion rates\n",
    "for i in cr_target:\n",
    "    n_sample.append(int(sms.NormalIndPower().solve_power(sms.proportion_effectsize(0.13,i), power=0.80, alpha=0.05, ratio=1)))\n",
    "\n",
    "# Results are plot    \n",
    "plt.plot(cr_target,n_sample,linewidth=4)\n",
    "plt.xlabel('Target Conversion Rate\\n(Current Conversion Rate = 13%)')\n",
    "plt.ylabel('Sample Size')\n",
    "plt.grid()\n",
    "plt.plot([0.15],[n_required],marker='+',markersize=20,markeredgewidth=5)   \n",
    "plt.show()"
   ]
  },
  {
   "cell_type": "markdown",
   "id": "ceadf24d",
   "metadata": {},
   "source": [
    "### 2.2. Sample Selection\n",
    "Assuming a conversion  converson rate of 13% and a target one of 15%, we calculated that a sample of approximately 5,000 observation is needed. Since the data available is much larger, a sample of 20,000 is considered instead, in order to have a more accurate analysis."
   ]
  },
  {
   "cell_type": "code",
   "execution_count": 10,
   "id": "6fe1d3fd",
   "metadata": {},
   "outputs": [],
   "source": [
    "# Randomly extract a sample from the raw data DataFrame\n",
    "# First the raw data is filtered, then the sample is extracted in order to have the same number of data points in each group\n",
    "n = 4719\n",
    "sample_contr = rd[rd['group']=='control'] ['converted'].sample(n=n, random_state=42)\n",
    "sample_treat = rd[rd['group']=='treatment'] ['converted'].sample(n=n, random_state=42)"
   ]
  },
  {
   "cell_type": "markdown",
   "id": "ac5f2008",
   "metadata": {},
   "source": [
    "### 3. Results\n",
    "After the sample is extracted, mean and standard deviation can be calculated for the conversion rate in both ___Control___ and ___Treatment___ group."
   ]
  },
  {
   "cell_type": "code",
   "execution_count": 11,
   "id": "089b7668",
   "metadata": {},
   "outputs": [
    {
     "name": "stdout",
     "output_type": "stream",
     "text": [
      "Control Group Sample Mean  : 0.1261\n",
      "Treatment Group Sample Mean: 0.1127\n"
     ]
    }
   ],
   "source": [
    "print(f'Control Group Sample Mean  : {sample_contr.mean():.4f}')\n",
    "print(f'Treatment Group Sample Mean: {sample_treat.mean():.4f}')"
   ]
  },
  {
   "cell_type": "markdown",
   "id": "e72c474a",
   "metadata": {},
   "source": [
    "From the results above, it seems that the difference between the two group is minor. It also appears that the treatment group \"perform\" even worst that the control group, meaning that the new feature not only does not provide any benefits, but it also affects negatively the conversion rate.\n",
    "\n",
    "__NOTE:__ In addition, the Treatment Group shows a value that is \"far\" from the 15% hoped target."
   ]
  },
  {
   "cell_type": "markdown",
   "id": "708cb8a3",
   "metadata": {},
   "source": [
    "### 4. Hypothesis Test\n",
    "Even if it appears that the effect is irrelevant, this must be decided statistically trying to confimr or reject the ___Null Hypothesys___:\n",
    "- H0 (Null Hypothesis): The new feature has not effect on the conversion rate\n",
    "- H1 (Alternative Hypothesis : The new feature has an effect on the conversion rate"
   ]
  },
  {
   "cell_type": "code",
   "execution_count": 12,
   "id": "89429fb8",
   "metadata": {},
   "outputs": [],
   "source": [
    "z_stat, pval = proportions_ztest([sample_contr.sum(),sample_treat.sum()],       # Number of successful conversion (count)\n",
    "                                 [sample_contr.count(),sample_treat.count()],   # Number of observations (nobs)\n",
    "                                  value=0)\n",
    "ci_low, ci_upp = proportion_confint([sample_contr.sum(),sample_treat.sum()],       # Number of successful conversion (count)\n",
    "                   [sample_contr.count(),sample_treat.count()],   # Number of observations (nobs)\n",
    "                   alpha=0.05,                                    # Significant defalut, 5%\n",
    "                   method='normal')                               # Method for confident interval calculation"
   ]
  },
  {
   "cell_type": "code",
   "execution_count": 13,
   "id": "4a91f98a",
   "metadata": {},
   "outputs": [
    {
     "name": "stdout",
     "output_type": "stream",
     "text": [
      "Numer of Sample for Each Group    : 4719\n",
      "Z-statistic                       : 2.000\n",
      "P-value                           : 0.046\n",
      "Control Group 95% Conf. Interval  : [0.117, 0.136]\n",
      "Treatment Group 95% Conf. Interval: [0.104, 0.122]\n"
     ]
    }
   ],
   "source": [
    "print(f'Numer of Sample for Each Group    : {n}')\n",
    "print(f'Z-statistic                       : {z_stat:.3f}')\n",
    "print(f'P-value                           : {pval:.3f}')\n",
    "print(f'Control Group 95% Conf. Interval  : [{ci_low[0]:.3f}, {ci_upp[0]:.3f}]')\n",
    "print(f'Treatment Group 95% Conf. Interval: [{ci_low[1]:.3f}, {ci_upp[1]:.3f}]')"
   ]
  },
  {
   "cell_type": "markdown",
   "id": "629a0c0d",
   "metadata": {},
   "source": [
    "The p-value is greater that 0.05, then __we reject the null hypotesis, BUT__:\n",
    "- We started using a 13% current conversion rate, but the results are showing that the confidernt interval does not contain 0.13, i.e. we started with wrong hypothesis. In addition, the target conversion rate also doesn't not belong to the confidence interval for the treatment group.\n",
    "- Further analysis is needed since the number of sample is not correct."
   ]
  },
  {
   "cell_type": "markdown",
   "id": "81255ac5",
   "metadata": {},
   "source": [
    "### 5. Further Investigation of Sample Size and Results\n",
    "In this section results are investigated where the sample size is used as parameter. To do that, p-value is considered for different sample size. \n",
    "\n",
    "### 5.1. Computing P-Values for Different Sample Sizes\n",
    "Sample size ranging from 5,000 to 100,000 is used to investigate the variation of p-values and have a educated guess about accepting or rejecting the Null Hypotesis."
   ]
  },
  {
   "cell_type": "code",
   "execution_count": 14,
   "id": "e2b13ef2",
   "metadata": {},
   "outputs": [],
   "source": [
    "p_values = []\n",
    "sample_sizes = []\n",
    "for sample_size in range(5000,100000,5000):\n",
    "    \n",
    "    sample_con = rd[rd['group']=='control'] ['converted'].sample(n=sample_size, random_state=42)\n",
    "    sample_tre = rd[rd['group']=='treatment'] ['converted'].sample(n=sample_size, random_state=42)\n",
    "    \n",
    "    z_stat, p_value = proportions_ztest([sample_con.sum(),sample_tre.sum()],[sample_con.count(), sample_tre.count()], value=0)\n",
    "    p_values.append(p_value)\n",
    "    sample_sizes.append(sample_size)"
   ]
  },
  {
   "cell_type": "markdown",
   "id": "47b2e48c",
   "metadata": {},
   "source": [
    "The p-values are plot against the sample size as shown below."
   ]
  },
  {
   "cell_type": "code",
   "execution_count": 15,
   "id": "332b12fc",
   "metadata": {},
   "outputs": [
    {
     "data": {
      "image/png": "[encoded data removed]",
      "text/plain": [
       "<Figure size 432x288 with 1 Axes>"
      ]
     },
     "metadata": {
      "needs_background": "light"
     },
     "output_type": "display_data"
    }
   ],
   "source": [
    "plt.plot(sample_sizes,p_values,marker='o',linewidth=2,color='g')\n",
    "plt.grid()\n",
    "plt.xlim(0,max(sample_sizes)*1.1)\n",
    "plt.ylim(0,1)\n",
    "plt.plot([min(sample_sizes),max(sample_sizes)],[0.05,0.05],color='black',linestyle='--')\n",
    "plt.xlabel('Sample Size')\n",
    "plt.ylabel('P-values')\n",
    "plt.legend(['p-values','5%-Threshold'])\n",
    "plt.show()"
   ]
  },
  {
   "cell_type": "markdown",
   "id": "b8b99d25",
   "metadata": {},
   "source": [
    "Looking at the graph above, it is clear that the sample size must increase. As a matter of fact, n = 4719 is used for the sample size, we actually see that p-value is lower that the threshold, meaning that we can reject the null hypothesis, which is not correct as explained above. "
   ]
  },
  {
   "cell_type": "markdown",
   "id": "b110ad02",
   "metadata": {},
   "source": [
    "### 5.2. Results for Larger Sample Size\n",
    "At this point we might perform the analysis again using a lager sample. Looking at the graph above, we might consider a value equal to 50,000.\n",
    "\n",
    "__NOTE__: In this case can be done since the data available is large, but generally speaking this does not reflect the typical real conditions, since we need to define _at priori_ the sample size, and then investigate the results."
   ]
  },
  {
   "cell_type": "code",
   "execution_count": 16,
   "id": "c099bf65",
   "metadata": {},
   "outputs": [
    {
     "name": "stdout",
     "output_type": "stream",
     "text": [
      "RESULTS\n",
      "---------------------------------------------\n",
      "Control Group Sample Mean          = 0.120\n",
      "Treatment Group Sample Mean        = 0.119\n",
      "\n",
      "Numer of Sample for Each Group     = 50000\n",
      "Z-statistic                        = 0.556\n",
      "P-value                            = 0.578\n",
      "\n",
      "Control Group 95% Conf. Interval   = [0.117, 0.123]\n",
      "Treatment Group 95% Conf. Interval = [0.116, 0.122]\n"
     ]
    }
   ],
   "source": [
    "n = 50000 # Selected Sample Size\n",
    "\n",
    "# Random Sample is selected from the Raw Data split in \"Control\" and \"Treatment\" Group.\n",
    "print('RESULTS\\n---------------------------------------------')\n",
    "sample_contr = rd[rd['group']=='control'] ['converted'].sample(n=n, random_state=42)\n",
    "sample_treat = rd[rd['group']=='treatment'] ['converted'].sample(n=n, random_state=42)\n",
    "\n",
    "# The statistical results of the random samples are shown\n",
    "print(f'Control Group Sample Mean          = {sample_contr.mean():.3f}')\n",
    "print(f'Treatment Group Sample Mean        = {sample_treat.mean():.3f}\\n')\n",
    "\n",
    "# Statistical test is performed between the two groups\n",
    "z_stat, pval = proportions_ztest([sample_contr.sum(),sample_treat.sum()],\n",
    "                                 [sample_contr.count(),sample_treat.count()],value=0)\n",
    "ci_low, ci_upp = proportion_confint([sample_contr.sum(),sample_treat.sum()],\n",
    "                                    [sample_contr.count(),sample_treat.count()], alpha=0.05, method='normal')             \n",
    "\n",
    "# Results are printed\n",
    "print(f'Numer of Sample for Each Group     = {n}')\n",
    "print(f'Z-statistic                        = {z_stat:.3f}')\n",
    "print(f'P-value                            = {pval:.3f}\\n')\n",
    "print(f'Control Group 95% Conf. Interval   = [{ci_low[0]:.3f}, {ci_upp[0]:.3f}]')\n",
    "print(f'Treatment Group 95% Conf. Interval = [{ci_low[1]:.3f}, {ci_upp[1]:.3f}]')"
   ]
  },
  {
   "cell_type": "markdown",
   "id": "4e44e5cd",
   "metadata": {},
   "source": [
    "### 6.0. Conclusions\n",
    "Looking at the results for a larger sample, we can be concluded following:\n",
    "1. The initial estimated sample size was not correct, since it started with a \"wrong\" value i.e. we assumed that the target conversion rate was 15%, instead the data shows that is much smaller;\n",
    "2. The confidence interval for the treatment group includes the Control Group base line i.e 12%;\n",
    "3. The confidence interval does not include our target value of 15%;\n",
    "4. It appears that the new feature is actually provide worst results.\n",
    "5. Finally, the high value of p >> 0.05 suggest that ___we cannot reject the Null Hypothesis___ i.e. the attempt of improving the product did not work as expected."
   ]
  },
  {
   "cell_type": "code",
   "execution_count": null,
   "id": "65c32644",
   "metadata": {},
   "outputs": [],
   "source": []
  }
 ],
 "metadata": {
  "kernelspec": {
   "display_name": "Python 3.7.4 64-bit ('enric': virtualenv)",
   "language": "python",
   "name": "python37464bitenricvirtualenv1f0bf62d20e84ae9b7909ff13e75c688"
  },
  "language_info": {
   "codemirror_mode": {
    "name": "ipython",
    "version": 3
   },
   "file_extension": ".py",
   "mimetype": "text/x-python",
   "name": "python",
   "nbconvert_exporter": "python",
   "pygments_lexer": "ipython3",
   "version": "3.9.12"
  }
 },
 "nbformat": 4,
 "nbformat_minor": 5
}
